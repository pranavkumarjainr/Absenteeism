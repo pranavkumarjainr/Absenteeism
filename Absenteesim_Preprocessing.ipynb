{
 "cells": [
  {
   "cell_type": "code",
   "execution_count": 1,
   "id": "834e4bb3",
   "metadata": {
    "ExecuteTime": {
     "end_time": "2021-11-16T11:26:28.306027Z",
     "start_time": "2021-11-16T11:26:18.183645Z"
    }
   },
   "outputs": [],
   "source": [
    "import pandas as pd"
   ]
  },
  {
   "cell_type": "code",
   "execution_count": 2,
   "id": "3bc0bbc7",
   "metadata": {
    "ExecuteTime": {
     "end_time": "2021-11-16T11:26:57.490740Z",
     "start_time": "2021-11-16T11:26:56.543203Z"
    }
   },
   "outputs": [],
   "source": [
    "raw_csv_data = pd.read_csv(\"Absenteeism_data.csv\")"
   ]
  },
  {
   "cell_type": "code",
   "execution_count": 4,
   "id": "4cfd8593",
   "metadata": {
    "ExecuteTime": {
     "end_time": "2021-11-16T11:30:41.791607Z",
     "start_time": "2021-11-16T11:30:41.782485Z"
    }
   },
   "outputs": [],
   "source": [
    "df = raw_csv_data.copy()"
   ]
  },
  {
   "cell_type": "code",
   "execution_count": 6,
   "id": "3e95d56a",
   "metadata": {
    "ExecuteTime": {
     "end_time": "2021-11-16T11:38:49.783411Z",
     "start_time": "2021-11-16T11:38:49.771846Z"
    }
   },
   "outputs": [],
   "source": [
    "df = df.drop([\"ID\"], axis = 1)"
   ]
  },
  {
   "cell_type": "code",
   "execution_count": 8,
   "id": "4db96d56",
   "metadata": {
    "ExecuteTime": {
     "end_time": "2021-11-16T11:43:51.027553Z",
     "start_time": "2021-11-16T11:43:51.019549Z"
    }
   },
   "outputs": [
    {
     "data": {
      "text/plain": [
       "28"
      ]
     },
     "execution_count": 8,
     "metadata": {},
     "output_type": "execute_result"
    }
   ],
   "source": [
    "len(df[\"Reason for Absence\"].unique())"
   ]
  },
  {
   "cell_type": "code",
   "execution_count": 7,
   "id": "e3e4d7f5",
   "metadata": {
    "ExecuteTime": {
     "end_time": "2021-11-16T11:42:33.763648Z",
     "start_time": "2021-11-16T11:42:33.705642Z"
    }
   },
   "outputs": [
    {
     "data": {
      "text/plain": [
       "[0,\n",
       " 1,\n",
       " 2,\n",
       " 3,\n",
       " 4,\n",
       " 5,\n",
       " 6,\n",
       " 7,\n",
       " 8,\n",
       " 9,\n",
       " 10,\n",
       " 11,\n",
       " 12,\n",
       " 13,\n",
       " 14,\n",
       " 15,\n",
       " 16,\n",
       " 17,\n",
       " 18,\n",
       " 19,\n",
       " 21,\n",
       " 22,\n",
       " 23,\n",
       " 24,\n",
       " 25,\n",
       " 26,\n",
       " 27,\n",
       " 28]"
      ]
     },
     "execution_count": 7,
     "metadata": {},
     "output_type": "execute_result"
    }
   ],
   "source": [
    "sorted(df[\"Reason for Absence\"].unique())"
   ]
  },
  {
   "cell_type": "code",
   "execution_count": 10,
   "id": "4e774ab9",
   "metadata": {
    "ExecuteTime": {
     "end_time": "2021-11-16T11:57:07.317835Z",
     "start_time": "2021-11-16T11:57:07.301877Z"
    }
   },
   "outputs": [],
   "source": [
    "reason_columns = pd.get_dummies(df['Reason for Absence'], drop_first = True)"
   ]
  },
  {
   "cell_type": "code",
   "execution_count": 11,
   "id": "55b33d3b",
   "metadata": {
    "ExecuteTime": {
     "end_time": "2021-11-16T11:58:45.378870Z",
     "start_time": "2021-11-16T11:58:45.370890Z"
    }
   },
   "outputs": [],
   "source": [
    "df = df.drop([\"Reason for Absence\"], axis = 1)"
   ]
  },
  {
   "cell_type": "code",
   "execution_count": 12,
   "id": "e59f5499",
   "metadata": {
    "ExecuteTime": {
     "end_time": "2021-11-16T12:03:20.748093Z",
     "start_time": "2021-11-16T12:03:20.473411Z"
    }
   },
   "outputs": [],
   "source": [
    "reason_type_1 = reason_columns.loc[:, 1:14].max(axis=1)\n",
    "reason_type_2 = reason_columns.loc[:, 15:17].max(axis=1)\n",
    "reason_type_3 = reason_columns.loc[:, 18:21].max(axis=1)\n",
    "reason_type_4 = reason_columns.loc[:, :22].max(axis=1)"
   ]
  },
  {
   "cell_type": "code",
   "execution_count": 13,
   "id": "b5ade6e9",
   "metadata": {
    "ExecuteTime": {
     "end_time": "2021-11-16T12:04:20.311992Z",
     "start_time": "2021-11-16T12:04:20.202288Z"
    }
   },
   "outputs": [],
   "source": [
    "df = pd.concat([df,reason_type_1, reason_type_2, reason_type_3, reason_type_4], axis=1)"
   ]
  },
  {
   "cell_type": "code",
   "execution_count": 14,
   "id": "8528a7c2",
   "metadata": {
    "ExecuteTime": {
     "end_time": "2021-11-16T12:05:19.124113Z",
     "start_time": "2021-11-16T12:05:19.113143Z"
    }
   },
   "outputs": [
    {
     "data": {
      "text/plain": [
       "array(['Date', 'Transportation Expense', 'Distance to Work', 'Age',\n",
       "       'Daily Work Load Average', 'Body Mass Index', 'Education',\n",
       "       'Children', 'Pets', 'Absenteeism Time in Hours', 0, 1, 2, 3],\n",
       "      dtype=object)"
      ]
     },
     "execution_count": 14,
     "metadata": {},
     "output_type": "execute_result"
    }
   ],
   "source": [
    "df.columns.values"
   ]
  },
  {
   "cell_type": "code",
   "execution_count": 15,
   "id": "83ca1434",
   "metadata": {
    "ExecuteTime": {
     "end_time": "2021-11-16T12:06:15.362189Z",
     "start_time": "2021-11-16T12:06:15.357217Z"
    }
   },
   "outputs": [],
   "source": [
    "columns = ['Date', 'Transportation Expense', 'Distance to Work', 'Age',\n",
    "       'Daily Work Load Average', 'Body Mass Index', 'Education',\n",
    "       'Children', 'Pets', 'Absenteeism Time in Hours', 'Reason_1', 'Reason_2', 'Reason_3', 'Reason_4']"
   ]
  },
  {
   "cell_type": "code",
   "execution_count": 16,
   "id": "4380530d",
   "metadata": {
    "ExecuteTime": {
     "end_time": "2021-11-16T12:06:36.609680Z",
     "start_time": "2021-11-16T12:06:36.604699Z"
    }
   },
   "outputs": [],
   "source": [
    "df.columns = columns"
   ]
  },
  {
   "cell_type": "code",
   "execution_count": 17,
   "id": "c62d146b",
   "metadata": {
    "ExecuteTime": {
     "end_time": "2021-11-16T12:08:09.455846Z",
     "start_time": "2021-11-16T12:08:09.438893Z"
    }
   },
   "outputs": [],
   "source": [
    "reordered_columns = ['Reason_1', 'Reason_2', 'Reason_3', 'Reason_4', \n",
    "                     'Date', 'Transportation Expense', 'Distance to Work', 'Age',\n",
    "                     'Daily Work Load Average', 'Body Mass Index', 'Education',\n",
    "                     'Children', 'Pets', 'Absenteeism Time in Hours']"
   ]
  },
  {
   "cell_type": "code",
   "execution_count": 18,
   "id": "b943f152",
   "metadata": {
    "ExecuteTime": {
     "end_time": "2021-11-16T12:08:19.032227Z",
     "start_time": "2021-11-16T12:08:19.003272Z"
    }
   },
   "outputs": [],
   "source": [
    "df = df[reordered_columns]"
   ]
  },
  {
   "cell_type": "code",
   "execution_count": 19,
   "id": "c3435eff",
   "metadata": {
    "ExecuteTime": {
     "end_time": "2021-11-16T12:09:39.781367Z",
     "start_time": "2021-11-16T12:09:39.760391Z"
    }
   },
   "outputs": [],
   "source": [
    "df_reason_mod = df.copy()"
   ]
  },
  {
   "cell_type": "code",
   "execution_count": 20,
   "id": "e32cd0e4",
   "metadata": {
    "ExecuteTime": {
     "end_time": "2021-11-16T12:12:50.450053Z",
     "start_time": "2021-11-16T12:12:50.264486Z"
    }
   },
   "outputs": [],
   "source": [
    "df_reason_mod[\"Date\"] = pd.to_datetime(df_reason_mod[\"Date\"], format = \"%d/%m/%Y\")"
   ]
  },
  {
   "cell_type": "code",
   "execution_count": 31,
   "id": "cda0a0c4",
   "metadata": {
    "ExecuteTime": {
     "end_time": "2021-11-16T12:18:50.496846Z",
     "start_time": "2021-11-16T12:18:50.478893Z"
    }
   },
   "outputs": [],
   "source": [
    "list_months = []"
   ]
  },
  {
   "cell_type": "code",
   "execution_count": 32,
   "id": "bdd0ac0f",
   "metadata": {
    "ExecuteTime": {
     "end_time": "2021-11-16T12:18:51.931582Z",
     "start_time": "2021-11-16T12:18:51.909644Z"
    }
   },
   "outputs": [],
   "source": [
    "for i in range(df_reason_mod.shape[0]):\n",
    "    list_months.append(df_reason_mod[\"Date\"][i].month)"
   ]
  },
  {
   "cell_type": "code",
   "execution_count": 33,
   "id": "ade4539c",
   "metadata": {
    "ExecuteTime": {
     "end_time": "2021-11-16T12:18:53.396440Z",
     "start_time": "2021-11-16T12:18:53.290057Z"
    }
   },
   "outputs": [],
   "source": [
    "df_reason_mod[\"Month Value\"] = list_months"
   ]
  },
  {
   "cell_type": "code",
   "execution_count": 34,
   "id": "7d175c2d",
   "metadata": {
    "ExecuteTime": {
     "end_time": "2021-11-16T12:20:36.366058Z",
     "start_time": "2021-11-16T12:20:36.353060Z"
    }
   },
   "outputs": [],
   "source": [
    "def date_to_weekday(date_value):\n",
    "    return date_value.weekday()"
   ]
  },
  {
   "cell_type": "code",
   "execution_count": 35,
   "id": "fd8b45f8",
   "metadata": {
    "ExecuteTime": {
     "end_time": "2021-11-16T12:21:35.734073Z",
     "start_time": "2021-11-16T12:21:35.709139Z"
    }
   },
   "outputs": [],
   "source": [
    "df_reason_mod[\"Day of the Week\"] = df_reason_mod[\"Date\"].apply(date_to_weekday)"
   ]
  },
  {
   "cell_type": "code",
   "execution_count": 37,
   "id": "665bee29",
   "metadata": {
    "ExecuteTime": {
     "end_time": "2021-11-16T12:23:44.253745Z",
     "start_time": "2021-11-16T12:23:44.233800Z"
    }
   },
   "outputs": [
    {
     "data": {
      "text/plain": [
       "Index(['Reason_1', 'Reason_2', 'Reason_3', 'Reason_4', 'Date',\n",
       "       'Transportation Expense', 'Distance to Work', 'Age',\n",
       "       'Daily Work Load Average', 'Body Mass Index', 'Education', 'Children',\n",
       "       'Pets', 'Absenteeism Time in Hours', 'Month Value', 'Day of the Week'],\n",
       "      dtype='object')"
      ]
     },
     "execution_count": 37,
     "metadata": {},
     "output_type": "execute_result"
    }
   ],
   "source": [
    "df_reason_mod.columns"
   ]
  },
  {
   "cell_type": "code",
   "execution_count": 39,
   "id": "31cd3717",
   "metadata": {
    "ExecuteTime": {
     "end_time": "2021-11-16T12:24:04.498737Z",
     "start_time": "2021-11-16T12:24:04.480785Z"
    }
   },
   "outputs": [],
   "source": [
    "reordered_columns = ['Reason_1', 'Reason_2', 'Reason_3', 'Reason_4','Month Value', 'Day of the Week', \n",
    "                     'Date', 'Transportation Expense', 'Distance to Work', 'Age',\n",
    "                     'Daily Work Load Average', 'Body Mass Index', 'Education',\n",
    "                     'Children', 'Pets', 'Absenteeism Time in Hours']"
   ]
  },
  {
   "cell_type": "code",
   "execution_count": 40,
   "id": "2fc1f49a",
   "metadata": {
    "ExecuteTime": {
     "end_time": "2021-11-16T12:24:23.467951Z",
     "start_time": "2021-11-16T12:24:23.450000Z"
    }
   },
   "outputs": [],
   "source": [
    "df_reason_mod = df_reason_mod[reordered_columns]"
   ]
  },
  {
   "cell_type": "code",
   "execution_count": 43,
   "id": "ad2a565e",
   "metadata": {
    "ExecuteTime": {
     "end_time": "2021-11-16T12:25:34.999035Z",
     "start_time": "2021-11-16T12:25:34.957115Z"
    },
    "collapsed": true
   },
   "outputs": [
    {
     "ename": "KeyError",
     "evalue": "\"['Date'] not found in axis\"",
     "output_type": "error",
     "traceback": [
      "\u001b[1;31m---------------------------------------------------------------------------\u001b[0m",
      "\u001b[1;31mKeyError\u001b[0m                                  Traceback (most recent call last)",
      "\u001b[1;32m<ipython-input-43-aa27dce245cc>\u001b[0m in \u001b[0;36m<module>\u001b[1;34m\u001b[0m\n\u001b[1;32m----> 1\u001b[1;33m \u001b[0mdf_reason_mod\u001b[0m \u001b[1;33m=\u001b[0m \u001b[0mdf_reason_mod\u001b[0m\u001b[1;33m.\u001b[0m\u001b[0mdrop\u001b[0m\u001b[1;33m(\u001b[0m\u001b[1;33m[\u001b[0m\u001b[1;34m\"Date\"\u001b[0m\u001b[1;33m]\u001b[0m\u001b[1;33m,\u001b[0m \u001b[0maxis\u001b[0m \u001b[1;33m=\u001b[0m \u001b[1;36m1\u001b[0m\u001b[1;33m)\u001b[0m\u001b[1;33m\u001b[0m\u001b[1;33m\u001b[0m\u001b[0m\n\u001b[0m",
      "\u001b[1;32m~\\anaconda3\\lib\\site-packages\\pandas\\core\\frame.py\u001b[0m in \u001b[0;36mdrop\u001b[1;34m(self, labels, axis, index, columns, level, inplace, errors)\u001b[0m\n\u001b[0;32m   4306\u001b[0m                 \u001b[0mweight\u001b[0m  \u001b[1;36m1.0\u001b[0m     \u001b[1;36m0.8\u001b[0m\u001b[1;33m\u001b[0m\u001b[1;33m\u001b[0m\u001b[0m\n\u001b[0;32m   4307\u001b[0m         \"\"\"\n\u001b[1;32m-> 4308\u001b[1;33m         return super().drop(\n\u001b[0m\u001b[0;32m   4309\u001b[0m             \u001b[0mlabels\u001b[0m\u001b[1;33m=\u001b[0m\u001b[0mlabels\u001b[0m\u001b[1;33m,\u001b[0m\u001b[1;33m\u001b[0m\u001b[1;33m\u001b[0m\u001b[0m\n\u001b[0;32m   4310\u001b[0m             \u001b[0maxis\u001b[0m\u001b[1;33m=\u001b[0m\u001b[0maxis\u001b[0m\u001b[1;33m,\u001b[0m\u001b[1;33m\u001b[0m\u001b[1;33m\u001b[0m\u001b[0m\n",
      "\u001b[1;32m~\\anaconda3\\lib\\site-packages\\pandas\\core\\generic.py\u001b[0m in \u001b[0;36mdrop\u001b[1;34m(self, labels, axis, index, columns, level, inplace, errors)\u001b[0m\n\u001b[0;32m   4151\u001b[0m         \u001b[1;32mfor\u001b[0m \u001b[0maxis\u001b[0m\u001b[1;33m,\u001b[0m \u001b[0mlabels\u001b[0m \u001b[1;32min\u001b[0m \u001b[0maxes\u001b[0m\u001b[1;33m.\u001b[0m\u001b[0mitems\u001b[0m\u001b[1;33m(\u001b[0m\u001b[1;33m)\u001b[0m\u001b[1;33m:\u001b[0m\u001b[1;33m\u001b[0m\u001b[1;33m\u001b[0m\u001b[0m\n\u001b[0;32m   4152\u001b[0m             \u001b[1;32mif\u001b[0m \u001b[0mlabels\u001b[0m \u001b[1;32mis\u001b[0m \u001b[1;32mnot\u001b[0m \u001b[1;32mNone\u001b[0m\u001b[1;33m:\u001b[0m\u001b[1;33m\u001b[0m\u001b[1;33m\u001b[0m\u001b[0m\n\u001b[1;32m-> 4153\u001b[1;33m                 \u001b[0mobj\u001b[0m \u001b[1;33m=\u001b[0m \u001b[0mobj\u001b[0m\u001b[1;33m.\u001b[0m\u001b[0m_drop_axis\u001b[0m\u001b[1;33m(\u001b[0m\u001b[0mlabels\u001b[0m\u001b[1;33m,\u001b[0m \u001b[0maxis\u001b[0m\u001b[1;33m,\u001b[0m \u001b[0mlevel\u001b[0m\u001b[1;33m=\u001b[0m\u001b[0mlevel\u001b[0m\u001b[1;33m,\u001b[0m \u001b[0merrors\u001b[0m\u001b[1;33m=\u001b[0m\u001b[0merrors\u001b[0m\u001b[1;33m)\u001b[0m\u001b[1;33m\u001b[0m\u001b[1;33m\u001b[0m\u001b[0m\n\u001b[0m\u001b[0;32m   4154\u001b[0m \u001b[1;33m\u001b[0m\u001b[0m\n\u001b[0;32m   4155\u001b[0m         \u001b[1;32mif\u001b[0m \u001b[0minplace\u001b[0m\u001b[1;33m:\u001b[0m\u001b[1;33m\u001b[0m\u001b[1;33m\u001b[0m\u001b[0m\n",
      "\u001b[1;32m~\\anaconda3\\lib\\site-packages\\pandas\\core\\generic.py\u001b[0m in \u001b[0;36m_drop_axis\u001b[1;34m(self, labels, axis, level, errors)\u001b[0m\n\u001b[0;32m   4186\u001b[0m                 \u001b[0mnew_axis\u001b[0m \u001b[1;33m=\u001b[0m \u001b[0maxis\u001b[0m\u001b[1;33m.\u001b[0m\u001b[0mdrop\u001b[0m\u001b[1;33m(\u001b[0m\u001b[0mlabels\u001b[0m\u001b[1;33m,\u001b[0m \u001b[0mlevel\u001b[0m\u001b[1;33m=\u001b[0m\u001b[0mlevel\u001b[0m\u001b[1;33m,\u001b[0m \u001b[0merrors\u001b[0m\u001b[1;33m=\u001b[0m\u001b[0merrors\u001b[0m\u001b[1;33m)\u001b[0m\u001b[1;33m\u001b[0m\u001b[1;33m\u001b[0m\u001b[0m\n\u001b[0;32m   4187\u001b[0m             \u001b[1;32melse\u001b[0m\u001b[1;33m:\u001b[0m\u001b[1;33m\u001b[0m\u001b[1;33m\u001b[0m\u001b[0m\n\u001b[1;32m-> 4188\u001b[1;33m                 \u001b[0mnew_axis\u001b[0m \u001b[1;33m=\u001b[0m \u001b[0maxis\u001b[0m\u001b[1;33m.\u001b[0m\u001b[0mdrop\u001b[0m\u001b[1;33m(\u001b[0m\u001b[0mlabels\u001b[0m\u001b[1;33m,\u001b[0m \u001b[0merrors\u001b[0m\u001b[1;33m=\u001b[0m\u001b[0merrors\u001b[0m\u001b[1;33m)\u001b[0m\u001b[1;33m\u001b[0m\u001b[1;33m\u001b[0m\u001b[0m\n\u001b[0m\u001b[0;32m   4189\u001b[0m             \u001b[0mresult\u001b[0m \u001b[1;33m=\u001b[0m \u001b[0mself\u001b[0m\u001b[1;33m.\u001b[0m\u001b[0mreindex\u001b[0m\u001b[1;33m(\u001b[0m\u001b[1;33m**\u001b[0m\u001b[1;33m{\u001b[0m\u001b[0maxis_name\u001b[0m\u001b[1;33m:\u001b[0m \u001b[0mnew_axis\u001b[0m\u001b[1;33m}\u001b[0m\u001b[1;33m)\u001b[0m\u001b[1;33m\u001b[0m\u001b[1;33m\u001b[0m\u001b[0m\n\u001b[0;32m   4190\u001b[0m \u001b[1;33m\u001b[0m\u001b[0m\n",
      "\u001b[1;32m~\\anaconda3\\lib\\site-packages\\pandas\\core\\indexes\\base.py\u001b[0m in \u001b[0;36mdrop\u001b[1;34m(self, labels, errors)\u001b[0m\n\u001b[0;32m   5589\u001b[0m         \u001b[1;32mif\u001b[0m \u001b[0mmask\u001b[0m\u001b[1;33m.\u001b[0m\u001b[0many\u001b[0m\u001b[1;33m(\u001b[0m\u001b[1;33m)\u001b[0m\u001b[1;33m:\u001b[0m\u001b[1;33m\u001b[0m\u001b[1;33m\u001b[0m\u001b[0m\n\u001b[0;32m   5590\u001b[0m             \u001b[1;32mif\u001b[0m \u001b[0merrors\u001b[0m \u001b[1;33m!=\u001b[0m \u001b[1;34m\"ignore\"\u001b[0m\u001b[1;33m:\u001b[0m\u001b[1;33m\u001b[0m\u001b[1;33m\u001b[0m\u001b[0m\n\u001b[1;32m-> 5591\u001b[1;33m                 \u001b[1;32mraise\u001b[0m \u001b[0mKeyError\u001b[0m\u001b[1;33m(\u001b[0m\u001b[1;34mf\"{labels[mask]} not found in axis\"\u001b[0m\u001b[1;33m)\u001b[0m\u001b[1;33m\u001b[0m\u001b[1;33m\u001b[0m\u001b[0m\n\u001b[0m\u001b[0;32m   5592\u001b[0m             \u001b[0mindexer\u001b[0m \u001b[1;33m=\u001b[0m \u001b[0mindexer\u001b[0m\u001b[1;33m[\u001b[0m\u001b[1;33m~\u001b[0m\u001b[0mmask\u001b[0m\u001b[1;33m]\u001b[0m\u001b[1;33m\u001b[0m\u001b[1;33m\u001b[0m\u001b[0m\n\u001b[0;32m   5593\u001b[0m         \u001b[1;32mreturn\u001b[0m \u001b[0mself\u001b[0m\u001b[1;33m.\u001b[0m\u001b[0mdelete\u001b[0m\u001b[1;33m(\u001b[0m\u001b[0mindexer\u001b[0m\u001b[1;33m)\u001b[0m\u001b[1;33m\u001b[0m\u001b[1;33m\u001b[0m\u001b[0m\n",
      "\u001b[1;31mKeyError\u001b[0m: \"['Date'] not found in axis\""
     ]
    }
   ],
   "source": [
    "df_reason_mod = df_reason_mod.drop([\"Date\"], axis = 1)"
   ]
  },
  {
   "cell_type": "code",
   "execution_count": 44,
   "id": "5ed79261",
   "metadata": {
    "ExecuteTime": {
     "end_time": "2021-11-16T12:26:15.589751Z",
     "start_time": "2021-11-16T12:26:15.580776Z"
    }
   },
   "outputs": [],
   "source": [
    "df_date_mod = df_reason_mod.copy()"
   ]
  },
  {
   "cell_type": "code",
   "execution_count": 45,
   "id": "794d9945",
   "metadata": {
    "ExecuteTime": {
     "end_time": "2021-11-16T12:28:38.740506Z",
     "start_time": "2021-11-16T12:28:38.731529Z"
    }
   },
   "outputs": [],
   "source": [
    "df_date_mod[\"Education\"] = df_date_mod[\"Education\"].map({1:0, 2:1, 3:1, 4:1})"
   ]
  },
  {
   "cell_type": "code",
   "execution_count": 46,
   "id": "4d4b59b8",
   "metadata": {
    "ExecuteTime": {
     "end_time": "2021-11-16T12:31:29.445749Z",
     "start_time": "2021-11-16T12:31:29.399469Z"
    }
   },
   "outputs": [
    {
     "data": {
      "text/html": [
       "<div>\n",
       "<style scoped>\n",
       "    .dataframe tbody tr th:only-of-type {\n",
       "        vertical-align: middle;\n",
       "    }\n",
       "\n",
       "    .dataframe tbody tr th {\n",
       "        vertical-align: top;\n",
       "    }\n",
       "\n",
       "    .dataframe thead th {\n",
       "        text-align: right;\n",
       "    }\n",
       "</style>\n",
       "<table border=\"1\" class=\"dataframe\">\n",
       "  <thead>\n",
       "    <tr style=\"text-align: right;\">\n",
       "      <th></th>\n",
       "      <th>Reason_1</th>\n",
       "      <th>Reason_2</th>\n",
       "      <th>Reason_3</th>\n",
       "      <th>Reason_4</th>\n",
       "      <th>Month Value</th>\n",
       "      <th>Day of the Week</th>\n",
       "      <th>Transportation Expense</th>\n",
       "      <th>Distance to Work</th>\n",
       "      <th>Age</th>\n",
       "      <th>Daily Work Load Average</th>\n",
       "      <th>Body Mass Index</th>\n",
       "      <th>Education</th>\n",
       "      <th>Children</th>\n",
       "      <th>Pets</th>\n",
       "      <th>Absenteeism Time in Hours</th>\n",
       "    </tr>\n",
       "  </thead>\n",
       "  <tbody>\n",
       "    <tr>\n",
       "      <th>0</th>\n",
       "      <td>0</td>\n",
       "      <td>0</td>\n",
       "      <td>0</td>\n",
       "      <td>0</td>\n",
       "      <td>7</td>\n",
       "      <td>1</td>\n",
       "      <td>289</td>\n",
       "      <td>36</td>\n",
       "      <td>33</td>\n",
       "      <td>239.554</td>\n",
       "      <td>30</td>\n",
       "      <td>0</td>\n",
       "      <td>2</td>\n",
       "      <td>1</td>\n",
       "      <td>4</td>\n",
       "    </tr>\n",
       "    <tr>\n",
       "      <th>1</th>\n",
       "      <td>0</td>\n",
       "      <td>0</td>\n",
       "      <td>0</td>\n",
       "      <td>0</td>\n",
       "      <td>7</td>\n",
       "      <td>1</td>\n",
       "      <td>118</td>\n",
       "      <td>13</td>\n",
       "      <td>50</td>\n",
       "      <td>239.554</td>\n",
       "      <td>31</td>\n",
       "      <td>0</td>\n",
       "      <td>1</td>\n",
       "      <td>0</td>\n",
       "      <td>0</td>\n",
       "    </tr>\n",
       "    <tr>\n",
       "      <th>2</th>\n",
       "      <td>0</td>\n",
       "      <td>0</td>\n",
       "      <td>0</td>\n",
       "      <td>0</td>\n",
       "      <td>7</td>\n",
       "      <td>2</td>\n",
       "      <td>179</td>\n",
       "      <td>51</td>\n",
       "      <td>38</td>\n",
       "      <td>239.554</td>\n",
       "      <td>31</td>\n",
       "      <td>0</td>\n",
       "      <td>0</td>\n",
       "      <td>0</td>\n",
       "      <td>2</td>\n",
       "    </tr>\n",
       "    <tr>\n",
       "      <th>3</th>\n",
       "      <td>1</td>\n",
       "      <td>0</td>\n",
       "      <td>0</td>\n",
       "      <td>1</td>\n",
       "      <td>7</td>\n",
       "      <td>3</td>\n",
       "      <td>279</td>\n",
       "      <td>5</td>\n",
       "      <td>39</td>\n",
       "      <td>239.554</td>\n",
       "      <td>24</td>\n",
       "      <td>0</td>\n",
       "      <td>2</td>\n",
       "      <td>0</td>\n",
       "      <td>4</td>\n",
       "    </tr>\n",
       "    <tr>\n",
       "      <th>4</th>\n",
       "      <td>0</td>\n",
       "      <td>0</td>\n",
       "      <td>0</td>\n",
       "      <td>0</td>\n",
       "      <td>7</td>\n",
       "      <td>3</td>\n",
       "      <td>289</td>\n",
       "      <td>36</td>\n",
       "      <td>33</td>\n",
       "      <td>239.554</td>\n",
       "      <td>30</td>\n",
       "      <td>0</td>\n",
       "      <td>2</td>\n",
       "      <td>1</td>\n",
       "      <td>2</td>\n",
       "    </tr>\n",
       "    <tr>\n",
       "      <th>...</th>\n",
       "      <td>...</td>\n",
       "      <td>...</td>\n",
       "      <td>...</td>\n",
       "      <td>...</td>\n",
       "      <td>...</td>\n",
       "      <td>...</td>\n",
       "      <td>...</td>\n",
       "      <td>...</td>\n",
       "      <td>...</td>\n",
       "      <td>...</td>\n",
       "      <td>...</td>\n",
       "      <td>...</td>\n",
       "      <td>...</td>\n",
       "      <td>...</td>\n",
       "      <td>...</td>\n",
       "    </tr>\n",
       "    <tr>\n",
       "      <th>695</th>\n",
       "      <td>1</td>\n",
       "      <td>0</td>\n",
       "      <td>0</td>\n",
       "      <td>1</td>\n",
       "      <td>5</td>\n",
       "      <td>2</td>\n",
       "      <td>179</td>\n",
       "      <td>22</td>\n",
       "      <td>40</td>\n",
       "      <td>237.656</td>\n",
       "      <td>22</td>\n",
       "      <td>1</td>\n",
       "      <td>2</td>\n",
       "      <td>0</td>\n",
       "      <td>8</td>\n",
       "    </tr>\n",
       "    <tr>\n",
       "      <th>696</th>\n",
       "      <td>1</td>\n",
       "      <td>0</td>\n",
       "      <td>0</td>\n",
       "      <td>1</td>\n",
       "      <td>5</td>\n",
       "      <td>2</td>\n",
       "      <td>225</td>\n",
       "      <td>26</td>\n",
       "      <td>28</td>\n",
       "      <td>237.656</td>\n",
       "      <td>24</td>\n",
       "      <td>0</td>\n",
       "      <td>1</td>\n",
       "      <td>2</td>\n",
       "      <td>3</td>\n",
       "    </tr>\n",
       "    <tr>\n",
       "      <th>697</th>\n",
       "      <td>1</td>\n",
       "      <td>0</td>\n",
       "      <td>0</td>\n",
       "      <td>1</td>\n",
       "      <td>5</td>\n",
       "      <td>3</td>\n",
       "      <td>330</td>\n",
       "      <td>16</td>\n",
       "      <td>28</td>\n",
       "      <td>237.656</td>\n",
       "      <td>25</td>\n",
       "      <td>1</td>\n",
       "      <td>0</td>\n",
       "      <td>0</td>\n",
       "      <td>8</td>\n",
       "    </tr>\n",
       "    <tr>\n",
       "      <th>698</th>\n",
       "      <td>0</td>\n",
       "      <td>0</td>\n",
       "      <td>0</td>\n",
       "      <td>0</td>\n",
       "      <td>5</td>\n",
       "      <td>3</td>\n",
       "      <td>235</td>\n",
       "      <td>16</td>\n",
       "      <td>32</td>\n",
       "      <td>237.656</td>\n",
       "      <td>25</td>\n",
       "      <td>1</td>\n",
       "      <td>0</td>\n",
       "      <td>0</td>\n",
       "      <td>2</td>\n",
       "    </tr>\n",
       "    <tr>\n",
       "      <th>699</th>\n",
       "      <td>0</td>\n",
       "      <td>0</td>\n",
       "      <td>0</td>\n",
       "      <td>0</td>\n",
       "      <td>5</td>\n",
       "      <td>3</td>\n",
       "      <td>291</td>\n",
       "      <td>31</td>\n",
       "      <td>40</td>\n",
       "      <td>237.656</td>\n",
       "      <td>25</td>\n",
       "      <td>0</td>\n",
       "      <td>1</td>\n",
       "      <td>1</td>\n",
       "      <td>2</td>\n",
       "    </tr>\n",
       "  </tbody>\n",
       "</table>\n",
       "<p>700 rows × 15 columns</p>\n",
       "</div>"
      ],
      "text/plain": [
       "     Reason_1  Reason_2  Reason_3  Reason_4  Month Value  Day of the Week  \\\n",
       "0           0         0         0         0            7                1   \n",
       "1           0         0         0         0            7                1   \n",
       "2           0         0         0         0            7                2   \n",
       "3           1         0         0         1            7                3   \n",
       "4           0         0         0         0            7                3   \n",
       "..        ...       ...       ...       ...          ...              ...   \n",
       "695         1         0         0         1            5                2   \n",
       "696         1         0         0         1            5                2   \n",
       "697         1         0         0         1            5                3   \n",
       "698         0         0         0         0            5                3   \n",
       "699         0         0         0         0            5                3   \n",
       "\n",
       "     Transportation Expense  Distance to Work  Age  Daily Work Load Average  \\\n",
       "0                       289                36   33                  239.554   \n",
       "1                       118                13   50                  239.554   \n",
       "2                       179                51   38                  239.554   \n",
       "3                       279                 5   39                  239.554   \n",
       "4                       289                36   33                  239.554   \n",
       "..                      ...               ...  ...                      ...   \n",
       "695                     179                22   40                  237.656   \n",
       "696                     225                26   28                  237.656   \n",
       "697                     330                16   28                  237.656   \n",
       "698                     235                16   32                  237.656   \n",
       "699                     291                31   40                  237.656   \n",
       "\n",
       "     Body Mass Index  Education  Children  Pets  Absenteeism Time in Hours  \n",
       "0                 30          0         2     1                          4  \n",
       "1                 31          0         1     0                          0  \n",
       "2                 31          0         0     0                          2  \n",
       "3                 24          0         2     0                          4  \n",
       "4                 30          0         2     1                          2  \n",
       "..               ...        ...       ...   ...                        ...  \n",
       "695               22          1         2     0                          8  \n",
       "696               24          0         1     2                          3  \n",
       "697               25          1         0     0                          8  \n",
       "698               25          1         0     0                          2  \n",
       "699               25          0         1     1                          2  \n",
       "\n",
       "[700 rows x 15 columns]"
      ]
     },
     "execution_count": 46,
     "metadata": {},
     "output_type": "execute_result"
    }
   ],
   "source": [
    "df_preprocessed = df_date_mod.copy()\n",
    "df_preprocessed"
   ]
  },
  {
   "cell_type": "code",
   "execution_count": 47,
   "id": "96bac36e",
   "metadata": {
    "ExecuteTime": {
     "end_time": "2021-11-16T12:34:17.656184Z",
     "start_time": "2021-11-16T12:34:17.342374Z"
    }
   },
   "outputs": [],
   "source": [
    "df_preprocessed.to_csv('Absenteeism_preprocessed.csv', index=False)"
   ]
  }
 ],
 "metadata": {
  "kernelspec": {
   "display_name": "Python 3",
   "language": "python",
   "name": "python3"
  },
  "language_info": {
   "codemirror_mode": {
    "name": "ipython",
    "version": 3
   },
   "file_extension": ".py",
   "mimetype": "text/x-python",
   "name": "python",
   "nbconvert_exporter": "python",
   "pygments_lexer": "ipython3",
   "version": "3.8.8"
  },
  "varInspector": {
   "cols": {
    "lenName": 16,
    "lenType": 16,
    "lenVar": 40
   },
   "kernels_config": {
    "python": {
     "delete_cmd_postfix": "",
     "delete_cmd_prefix": "del ",
     "library": "var_list.py",
     "varRefreshCmd": "print(var_dic_list())"
    },
    "r": {
     "delete_cmd_postfix": ") ",
     "delete_cmd_prefix": "rm(",
     "library": "var_list.r",
     "varRefreshCmd": "cat(var_dic_list()) "
    }
   },
   "types_to_exclude": [
    "module",
    "function",
    "builtin_function_or_method",
    "instance",
    "_Feature"
   ],
   "window_display": false
  }
 },
 "nbformat": 4,
 "nbformat_minor": 5
}
