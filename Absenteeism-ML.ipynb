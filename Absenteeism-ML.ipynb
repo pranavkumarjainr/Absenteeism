{
 "cells": [
  {
   "cell_type": "code",
   "execution_count": 1,
   "id": "cfe543f0",
   "metadata": {
    "ExecuteTime": {
     "end_time": "2021-11-16T14:55:49.751372Z",
     "start_time": "2021-11-16T14:55:48.919833Z"
    }
   },
   "outputs": [],
   "source": [
    "import numpy as np\n",
    "import pandas as pd"
   ]
  },
  {
   "cell_type": "code",
   "execution_count": 2,
   "id": "5c0f2d25",
   "metadata": {
    "ExecuteTime": {
     "end_time": "2021-11-16T14:55:49.782282Z",
     "start_time": "2021-11-16T14:55:49.755352Z"
    }
   },
   "outputs": [],
   "source": [
    "data_preprocessed = pd.read_csv(\"Absenteeism_preprocessed.csv\")"
   ]
  },
  {
   "cell_type": "code",
   "execution_count": 3,
   "id": "3245e385",
   "metadata": {
    "ExecuteTime": {
     "end_time": "2021-11-16T14:55:49.922568Z",
     "start_time": "2021-11-16T14:55:49.789274Z"
    }
   },
   "outputs": [
    {
     "data": {
      "text/plain": [
       "3.0"
      ]
     },
     "execution_count": 3,
     "metadata": {},
     "output_type": "execute_result"
    }
   ],
   "source": [
    "data_preprocessed[\"Absenteeism Time in Hours\"].median()"
   ]
  },
  {
   "cell_type": "code",
   "execution_count": 4,
   "id": "f3401c52",
   "metadata": {
    "ExecuteTime": {
     "end_time": "2021-11-16T14:55:50.061601Z",
     "start_time": "2021-11-16T14:55:49.927550Z"
    }
   },
   "outputs": [],
   "source": [
    "targets = np.where(data_preprocessed[\"Absenteeism Time in Hours\"] > \n",
    "                   data_preprocessed[\"Absenteeism Time in Hours\"].median(), 1, 0)"
   ]
  },
  {
   "cell_type": "code",
   "execution_count": 5,
   "id": "e1a2d0d6",
   "metadata": {
    "ExecuteTime": {
     "end_time": "2021-11-16T14:55:50.156022Z",
     "start_time": "2021-11-16T14:55:50.064513Z"
    }
   },
   "outputs": [],
   "source": [
    "data_preprocessed[\"Excessive Absenteeism\"] = targets"
   ]
  },
  {
   "cell_type": "code",
   "execution_count": 6,
   "id": "6365e2c5",
   "metadata": {
    "ExecuteTime": {
     "end_time": "2021-11-16T14:55:50.294313Z",
     "start_time": "2021-11-16T14:55:50.161887Z"
    }
   },
   "outputs": [],
   "source": [
    "data_with_targets = data_preprocessed.drop([\"Absenteeism Time in Hours\", 'Day of the Week',\n",
    "                                           'Daily Work Load Average', 'Distance to Work'], axis=1)"
   ]
  },
  {
   "cell_type": "code",
   "execution_count": 7,
   "id": "a4f620ee",
   "metadata": {
    "ExecuteTime": {
     "end_time": "2021-11-16T14:55:50.420212Z",
     "start_time": "2021-11-16T14:55:50.301177Z"
    }
   },
   "outputs": [],
   "source": [
    "unscaled_inputs = data_with_targets.iloc[:, :-1]"
   ]
  },
  {
   "cell_type": "code",
   "execution_count": 8,
   "id": "99c60859",
   "metadata": {
    "ExecuteTime": {
     "end_time": "2021-11-16T14:55:51.983147Z",
     "start_time": "2021-11-16T14:55:50.423205Z"
    }
   },
   "outputs": [],
   "source": [
    "from sklearn.base import BaseEstimator, TransformerMixin\n",
    "from sklearn.preprocessing import StandardScaler\n",
    "\n",
    "# create the Custom Scaler class\n",
    "\n",
    "class CustomScaler(BaseEstimator,TransformerMixin): \n",
    "    \n",
    "    # init or what information we need to declare a CustomScaler object\n",
    "    # and what is calculated/declared as we do\n",
    "    \n",
    "    def __init__(self,columns):\n",
    "        \n",
    "        # scaler is nothing but a Standard Scaler object\n",
    "        self.scaler = StandardScaler()\n",
    "        # with some columns 'twist'\n",
    "        self.columns = columns\n",
    "        self.mean_ = None\n",
    "        self.var_ = None\n",
    "        \n",
    "    \n",
    "    # the fit method, which, again based on StandardScale\n",
    "    \n",
    "    def fit(self, X, y=None):\n",
    "        self.scaler.fit(X[self.columns], y)\n",
    "        self.mean_ = np.mean(X[self.columns])\n",
    "        self.var_ = np.var(X[self.columns])\n",
    "        return self\n",
    "    \n",
    "    # the transform method which does the actual scaling\n",
    "\n",
    "    def transform(self, X, y=None):\n",
    "        \n",
    "        # record the initial order of the columns\n",
    "        init_col_order = X.columns\n",
    "        \n",
    "        # scale all features that you chose when creating the instance of the class\n",
    "        X_scaled = pd.DataFrame(self.scaler.transform(X[self.columns]), columns=self.columns)\n",
    "        \n",
    "        # declare a variable containing all information that was not scaled\n",
    "        X_not_scaled = X.loc[:,~X.columns.isin(self.columns)]\n",
    "        \n",
    "        # return a data frame which contains all scaled features and all 'not scaled' features\n",
    "        # use the original order (that you recorded in the beginning)\n",
    "        return pd.concat([X_not_scaled, X_scaled], axis=1)[init_col_order]"
   ]
  },
  {
   "cell_type": "code",
   "execution_count": 9,
   "id": "2832adb0",
   "metadata": {
    "ExecuteTime": {
     "end_time": "2021-11-16T14:55:51.998108Z",
     "start_time": "2021-11-16T14:55:51.987144Z"
    }
   },
   "outputs": [],
   "source": [
    "columns_to_omit = ['Reason_1', 'Reason_2', 'Reason_3', 'Reason_4','Education']"
   ]
  },
  {
   "cell_type": "code",
   "execution_count": 10,
   "id": "dd09cf9f",
   "metadata": {
    "ExecuteTime": {
     "end_time": "2021-11-16T14:55:52.140177Z",
     "start_time": "2021-11-16T14:55:52.009084Z"
    }
   },
   "outputs": [],
   "source": [
    "columns_to_scale = [x for x in unscaled_inputs.columns.values if x not in columns_to_omit]"
   ]
  },
  {
   "cell_type": "code",
   "execution_count": 11,
   "id": "407f02d9",
   "metadata": {
    "ExecuteTime": {
     "end_time": "2021-11-16T14:55:52.266052Z",
     "start_time": "2021-11-16T14:55:52.142038Z"
    }
   },
   "outputs": [],
   "source": [
    "absenteeism_scaler = CustomScaler(columns_to_scale)"
   ]
  },
  {
   "cell_type": "code",
   "execution_count": 12,
   "id": "6bb237a9",
   "metadata": {
    "ExecuteTime": {
     "end_time": "2021-11-16T14:55:52.422417Z",
     "start_time": "2021-11-16T14:55:52.271039Z"
    }
   },
   "outputs": [
    {
     "data": {
      "text/plain": [
       "CustomScaler(columns=['Month Value', 'Transportation Expense', 'Age',\n",
       "                      'Body Mass Index', 'Children', 'Pets'])"
      ]
     },
     "execution_count": 12,
     "metadata": {},
     "output_type": "execute_result"
    }
   ],
   "source": [
    "absenteeism_scaler.fit(unscaled_inputs)"
   ]
  },
  {
   "cell_type": "code",
   "execution_count": 13,
   "id": "ea00d8d0",
   "metadata": {
    "ExecuteTime": {
     "end_time": "2021-11-16T14:55:52.563581Z",
     "start_time": "2021-11-16T14:55:52.424413Z"
    }
   },
   "outputs": [],
   "source": [
    "scaled_inputs = absenteeism_scaler.transform(unscaled_inputs)"
   ]
  },
  {
   "cell_type": "code",
   "execution_count": 16,
   "id": "16a501ac",
   "metadata": {
    "ExecuteTime": {
     "end_time": "2021-11-16T14:56:31.498788Z",
     "start_time": "2021-11-16T14:56:31.453737Z"
    }
   },
   "outputs": [],
   "source": [
    "from sklearn.model_selection import train_test_split\n",
    "\n",
    "x_train, x_test, y_train, y_test = train_test_split(scaled_inputs, targets, test_size=0.2, \n",
    "                                                    random_state=111)"
   ]
  },
  {
   "cell_type": "code",
   "execution_count": 17,
   "id": "271f9653",
   "metadata": {
    "ExecuteTime": {
     "end_time": "2021-11-16T14:56:33.050928Z",
     "start_time": "2021-11-16T14:56:33.003022Z"
    }
   },
   "outputs": [],
   "source": [
    "from sklearn.linear_model import LogisticRegression\n",
    "from sklearn import metrics"
   ]
  },
  {
   "cell_type": "code",
   "execution_count": 18,
   "id": "7905ad42",
   "metadata": {
    "ExecuteTime": {
     "end_time": "2021-11-16T14:56:34.078639Z",
     "start_time": "2021-11-16T14:56:34.050714Z"
    }
   },
   "outputs": [
    {
     "data": {
      "text/plain": [
       "LogisticRegression()"
      ]
     },
     "execution_count": 18,
     "metadata": {},
     "output_type": "execute_result"
    }
   ],
   "source": [
    "reg = LogisticRegression()\n",
    "reg.fit(x_train, y_train)"
   ]
  },
  {
   "cell_type": "code",
   "execution_count": 19,
   "id": "5a2c42cd",
   "metadata": {
    "ExecuteTime": {
     "end_time": "2021-11-16T14:56:35.110135Z",
     "start_time": "2021-11-16T14:56:35.090185Z"
    }
   },
   "outputs": [
    {
     "data": {
      "text/plain": [
       "0.7803571428571429"
      ]
     },
     "execution_count": 19,
     "metadata": {},
     "output_type": "execute_result"
    }
   ],
   "source": [
    "reg.score(x_train, y_train)"
   ]
  },
  {
   "cell_type": "code",
   "execution_count": 20,
   "id": "ccb0a5f2",
   "metadata": {
    "ExecuteTime": {
     "end_time": "2021-11-16T14:56:36.566460Z",
     "start_time": "2021-11-16T14:56:36.547509Z"
    }
   },
   "outputs": [],
   "source": [
    "model_outputs = reg.predict(x_train)"
   ]
  },
  {
   "cell_type": "code",
   "execution_count": 21,
   "id": "f4e3d74b",
   "metadata": {
    "ExecuteTime": {
     "end_time": "2021-11-16T14:56:37.491611Z",
     "start_time": "2021-11-16T14:56:37.479607Z"
    }
   },
   "outputs": [
    {
     "data": {
      "text/plain": [
       "0.7571428571428571"
      ]
     },
     "execution_count": 21,
     "metadata": {},
     "output_type": "execute_result"
    }
   ],
   "source": [
    "reg.score(x_test, y_test)"
   ]
  },
  {
   "cell_type": "code",
   "execution_count": 22,
   "id": "ff3fc9ef",
   "metadata": {
    "ExecuteTime": {
     "end_time": "2021-11-16T14:56:52.617891Z",
     "start_time": "2021-11-16T14:56:52.609911Z"
    }
   },
   "outputs": [],
   "source": [
    "import pickle "
   ]
  },
  {
   "cell_type": "code",
   "execution_count": 23,
   "id": "ccfc7daa",
   "metadata": {
    "ExecuteTime": {
     "end_time": "2021-11-16T14:58:19.932614Z",
     "start_time": "2021-11-16T14:58:19.920644Z"
    }
   },
   "outputs": [],
   "source": [
    "with open(\"model\", \"wb\") as file:\n",
    "    pickle.dump(reg, file)"
   ]
  },
  {
   "cell_type": "code",
   "execution_count": 24,
   "id": "572665c3",
   "metadata": {
    "ExecuteTime": {
     "end_time": "2021-11-16T14:59:00.941097Z",
     "start_time": "2021-11-16T14:59:00.828328Z"
    }
   },
   "outputs": [],
   "source": [
    "with open('scaler', 'wb') as file:\n",
    "    pickle.dump(absenteeism_scaler, file)"
   ]
  }
 ],
 "metadata": {
  "kernelspec": {
   "display_name": "Python 3",
   "language": "python",
   "name": "python3"
  },
  "language_info": {
   "codemirror_mode": {
    "name": "ipython",
    "version": 3
   },
   "file_extension": ".py",
   "mimetype": "text/x-python",
   "name": "python",
   "nbconvert_exporter": "python",
   "pygments_lexer": "ipython3",
   "version": "3.8.8"
  },
  "varInspector": {
   "cols": {
    "lenName": 16,
    "lenType": 16,
    "lenVar": 40
   },
   "kernels_config": {
    "python": {
     "delete_cmd_postfix": "",
     "delete_cmd_prefix": "del ",
     "library": "var_list.py",
     "varRefreshCmd": "print(var_dic_list())"
    },
    "r": {
     "delete_cmd_postfix": ") ",
     "delete_cmd_prefix": "rm(",
     "library": "var_list.r",
     "varRefreshCmd": "cat(var_dic_list()) "
    }
   },
   "types_to_exclude": [
    "module",
    "function",
    "builtin_function_or_method",
    "instance",
    "_Feature"
   ],
   "window_display": false
  }
 },
 "nbformat": 4,
 "nbformat_minor": 5
}
